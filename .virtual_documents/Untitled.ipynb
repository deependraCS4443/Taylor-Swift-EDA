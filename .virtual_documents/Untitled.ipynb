import pandas as pd

# Load Spotify dataset
spotify_df = pd.read_csv('data/taylor_swift_spotify.csv')

# Load lyrics dataset
lyrics_df = pd.read_csv('data/taylor_swift_lyrics.csv')

# Show the first 5 rows of each to verify
print("🎵 Spotify Dataset:")
display(spotify_df.head())

print("📝 Lyrics Dataset:")
display(lyrics_df.head())


# Spotify dataset checks
print("🎵 Spotify Dataset Info:")
spotify_df.info()

print("\nMissing values in Spotify:")
print(spotify_df.isnull().sum())

print("\nDuplicate rows in Spotify:", spotify_df.duplicated().sum())

# Lyrics dataset checks
print("\n📝 Lyrics Dataset Info:")
lyrics_df.info()

print("\nMissing values in Lyrics:")
print(lyrics_df.isnull().sum())

print("\nDuplicate rows in Lyrics:", lyrics_df.duplicated().sum())






# Convert release_date to datetime
spotify_df['release_date'] = pd.to_datetime(spotify_df['release_date'])

# Convert duration from ms to minutes
spotify_df['duration_min'] = spotify_df['duration_ms'] / 60000

# Basic stats and preview of albums
print("🎼 Albums in dataset:")
print(spotify_df['album'].value_counts())

print("\n📅 Release year range:")
print(spotify_df['release_date'].min(), "→", spotify_df['release_date'].max())

# Optional: Add a 'release_year' column for easier grouping
spotify_df['release_year'] = spotify_df['release_date'].dt.year

# Preview updated dataset
spotify_df[['name', 'album', 'release_date', 'duration_min', 'release_year']].head()






# Top 10 most popular songs
top_popular = spotify_df.sort_values(by='popularity', ascending=False)[['name', 'album', 'popularity']].drop_duplicates()

# Show top 10
top_popular.head(10)


# Save top 10 most popular songs to CSV for using in tableu
top_popular.head(10).to_csv('top_10_popular_songs.csv', index=False)





# Group by album and calculate average song duration
avg_duration = spotify_df.groupby('album')['duration_min'].mean().reset_index()

# Sort albums by average duration
avg_duration = avg_duration.sort_values(by='duration_min', ascending=False)

# Display results
avg_duration


avg_duration.to_csv('average_duration_by_album.csv', index=False)





# Group by release year and calculate average danceability
danceability_trend = spotify_df.groupby('release_year')['danceability'].mean().reset_index()

# Sort by year just in case
danceability_trend = danceability_trend.sort_values(by='release_year')

# Preview results
danceability_trend


danceability_trend.to_csv('danceability_trend_by_year.csv', index=False)





# Filter songs with high liveness score
live_songs = spotify_df[spotify_df['liveness'] > 0.8][['name', 'album', 'liveness']]

# Sort to see highest scores
live_songs = live_songs.sort_values(by='liveness', ascending=False)

# Preview
live_songs.head(10)


live_songs.to_csv('likely_live_songs.csv', index=False)





# Group by release year and calculate average loudness
loudness_trend = spotify_df.groupby('release_year')['loudness'].mean().reset_index()

# Sort by year
loudness_trend = loudness_trend.sort_values(by='release_year')

# Preview
loudness_trend


loudness_trend.to_csv('loudness_trend_by_year.csv', index=False)





# Categorize songs based on speechiness value
def speech_category(value):
    if value > 0.66:
        return 'Spoken Word'
    elif value > 0.33:
        return 'Mixed'
    else:
        return 'Musical'

spotify_df['speech_category'] = spotify_df['speechiness'].apply(speech_category)

# Count how many songs fall into each category
speech_counts = spotify_df['speech_category'].value_counts().reset_index()
speech_counts.columns = ['speech_category', 'count']

# Preview
speech_counts


speech_counts.to_csv('speechiness_category_counts.csv', index=False)





# Group by year and calculate average tempo and valence
tempo_valence_trend = spotify_df.groupby('release_year')[['tempo', 'valence']].mean().reset_index()

# Sort by year
tempo_valence_trend = tempo_valence_trend.sort_values(by='release_year')

# Preview
tempo_valence_trend


tempo_valence_trend.to_csv('tempo_valence_by_year.csv', index=False)



